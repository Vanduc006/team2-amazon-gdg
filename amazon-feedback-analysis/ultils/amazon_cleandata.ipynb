{
  "cells": [
    {
      "cell_type": "code",
      "execution_count": 39,
      "metadata": {},
      "outputs": [],
      "source": [
        "# !pip install -r requirements.txt\n",
        "# !python -m spacy download en_core_web_sm"
      ]
    },
    {
      "cell_type": "code",
      "execution_count": 40,
      "metadata": {
        "id": "Csi9MU2NAb1F"
      },
      "outputs": [],
      "source": [
        "import pandas as pd \n",
        "import string\n",
        "import re\n",
        "import numpy as np\n",
        "import nltk\n",
        "# from nltk.stem import WordNetLemmatizer\n",
        "# from nltk.corpus import stopwords \n",
        "from nltk.tokenize import TweetTokenizer\n",
        "import emot\n",
        "emot_obj = emot.emot()\n",
        "import spacy\n",
        "from tools_gdg import *\n"
      ]
    },
    {
      "cell_type": "code",
      "execution_count": 41,
      "metadata": {
        "id": "W8K-PplKAjsk"
      },
      "outputs": [],
      "source": [
        "data = pd.read_csv(\"../data/amazon.csv\")"
      ]
    },
    {
      "cell_type": "code",
      "execution_count": 42,
      "metadata": {
        "id": "aRVJ8J62mf69"
      },
      "outputs": [],
      "source": [
        "data.drop(columns = ['discount_percentage','img_link','product_name','product_link','user_name','review_id','about_product'], inplace = True)"
      ]
    },
    {
      "cell_type": "code",
      "execution_count": 43,
      "metadata": {
        "colab": {
          "base_uri": "https://localhost:8080/"
        },
        "id": "23bMEYAxBBUc",
        "outputId": "75e2c4c9-ade2-4dea-b645-1915e693a60e"
      },
      "outputs": [
        {
          "name": "stdout",
          "output_type": "stream",
          "text": [
            "<class 'pandas.core.frame.DataFrame'>\n",
            "RangeIndex: 1465 entries, 0 to 1464\n",
            "Data columns (total 9 columns):\n",
            " #   Column            Non-Null Count  Dtype \n",
            "---  ------            --------------  ----- \n",
            " 0   product_id        1465 non-null   object\n",
            " 1   category          1465 non-null   object\n",
            " 2   discounted_price  1465 non-null   object\n",
            " 3   actual_price      1465 non-null   object\n",
            " 4   rating            1465 non-null   object\n",
            " 5   rating_count      1463 non-null   object\n",
            " 6   user_id           1465 non-null   object\n",
            " 7   review_title      1465 non-null   object\n",
            " 8   review_content    1465 non-null   object\n",
            "dtypes: object(9)\n",
            "memory usage: 103.1+ KB\n"
          ]
        }
      ],
      "source": [
        "data.info()"
      ]
    },
    {
      "cell_type": "code",
      "execution_count": 44,
      "metadata": {
        "colab": {
          "base_uri": "https://localhost:8080/",
          "height": 504
        },
        "id": "7t8x5dMT5xuS",
        "outputId": "9eed5ec7-c3ad-4e65-936b-be91a669acf0"
      },
      "outputs": [
        {
          "data": {
            "text/html": [
              "<div>\n",
              "<style scoped>\n",
              "    .dataframe tbody tr th:only-of-type {\n",
              "        vertical-align: middle;\n",
              "    }\n",
              "\n",
              "    .dataframe tbody tr th {\n",
              "        vertical-align: top;\n",
              "    }\n",
              "\n",
              "    .dataframe thead th {\n",
              "        text-align: right;\n",
              "    }\n",
              "</style>\n",
              "<table border=\"1\" class=\"dataframe\">\n",
              "  <thead>\n",
              "    <tr style=\"text-align: right;\">\n",
              "      <th></th>\n",
              "      <th>product_id</th>\n",
              "      <th>category</th>\n",
              "      <th>discounted_price</th>\n",
              "      <th>actual_price</th>\n",
              "      <th>rating</th>\n",
              "      <th>rating_count</th>\n",
              "      <th>user_id</th>\n",
              "      <th>review_title</th>\n",
              "      <th>review_content</th>\n",
              "    </tr>\n",
              "  </thead>\n",
              "  <tbody>\n",
              "    <tr>\n",
              "      <th>0</th>\n",
              "      <td>B07JW9H4J1</td>\n",
              "      <td>Computers&amp;Accessories|Accessories&amp;Peripherals|...</td>\n",
              "      <td>₹399</td>\n",
              "      <td>₹1,099</td>\n",
              "      <td>4.2</td>\n",
              "      <td>24,269</td>\n",
              "      <td>AG3D6O4STAQKAY2UVGEUV46KN35Q,AHMY5CWJMMK5BJRBB...</td>\n",
              "      <td>Satisfied,Charging is really fast,Value for mo...</td>\n",
              "      <td>Looks durable Charging is fine tooNo complains...</td>\n",
              "    </tr>\n",
              "    <tr>\n",
              "      <th>1</th>\n",
              "      <td>B098NS6PVG</td>\n",
              "      <td>Computers&amp;Accessories|Accessories&amp;Peripherals|...</td>\n",
              "      <td>₹199</td>\n",
              "      <td>₹349</td>\n",
              "      <td>4.0</td>\n",
              "      <td>43,994</td>\n",
              "      <td>AECPFYFQVRUWC3KGNLJIOREFP5LQ,AGYYVPDD7YG7FYNBX...</td>\n",
              "      <td>A Good Braided Cable for Your Type C Device,Go...</td>\n",
              "      <td>I ordered this cable to connect my phone to An...</td>\n",
              "    </tr>\n",
              "    <tr>\n",
              "      <th>2</th>\n",
              "      <td>B096MSW6CT</td>\n",
              "      <td>Computers&amp;Accessories|Accessories&amp;Peripherals|...</td>\n",
              "      <td>₹199</td>\n",
              "      <td>₹1,899</td>\n",
              "      <td>3.9</td>\n",
              "      <td>7,928</td>\n",
              "      <td>AGU3BBQ2V2DDAMOAKGFAWDDQ6QHA,AESFLDV2PT363T2AQ...</td>\n",
              "      <td>Good speed for earlier versions,Good Product,W...</td>\n",
              "      <td>Not quite durable and sturdy,https://m.media-a...</td>\n",
              "    </tr>\n",
              "    <tr>\n",
              "      <th>3</th>\n",
              "      <td>B08HDJ86NZ</td>\n",
              "      <td>Computers&amp;Accessories|Accessories&amp;Peripherals|...</td>\n",
              "      <td>₹329</td>\n",
              "      <td>₹699</td>\n",
              "      <td>4.2</td>\n",
              "      <td>94,363</td>\n",
              "      <td>AEWAZDZZJLQUYVOVGBEUKSLXHQ5A,AG5HTSFRRE6NL3M5S...</td>\n",
              "      <td>Good product,Good one,Nice,Really nice product...</td>\n",
              "      <td>Good product,long wire,Charges good,Nice,I bou...</td>\n",
              "    </tr>\n",
              "    <tr>\n",
              "      <th>4</th>\n",
              "      <td>B08CF3B7N1</td>\n",
              "      <td>Computers&amp;Accessories|Accessories&amp;Peripherals|...</td>\n",
              "      <td>₹154</td>\n",
              "      <td>₹399</td>\n",
              "      <td>4.2</td>\n",
              "      <td>16,905</td>\n",
              "      <td>AE3Q6KSUK5P75D5HFYHCRAOLODSA,AFUGIFH5ZAFXRDSZH...</td>\n",
              "      <td>As good as original,Decent,Good one for second...</td>\n",
              "      <td>Bought this instead of original apple, does th...</td>\n",
              "    </tr>\n",
              "  </tbody>\n",
              "</table>\n",
              "</div>"
            ],
            "text/plain": [
              "   product_id                                           category  \\\n",
              "0  B07JW9H4J1  Computers&Accessories|Accessories&Peripherals|...   \n",
              "1  B098NS6PVG  Computers&Accessories|Accessories&Peripherals|...   \n",
              "2  B096MSW6CT  Computers&Accessories|Accessories&Peripherals|...   \n",
              "3  B08HDJ86NZ  Computers&Accessories|Accessories&Peripherals|...   \n",
              "4  B08CF3B7N1  Computers&Accessories|Accessories&Peripherals|...   \n",
              "\n",
              "  discounted_price actual_price rating rating_count  \\\n",
              "0             ₹399       ₹1,099    4.2       24,269   \n",
              "1             ₹199         ₹349    4.0       43,994   \n",
              "2             ₹199       ₹1,899    3.9        7,928   \n",
              "3             ₹329         ₹699    4.2       94,363   \n",
              "4             ₹154         ₹399    4.2       16,905   \n",
              "\n",
              "                                             user_id  \\\n",
              "0  AG3D6O4STAQKAY2UVGEUV46KN35Q,AHMY5CWJMMK5BJRBB...   \n",
              "1  AECPFYFQVRUWC3KGNLJIOREFP5LQ,AGYYVPDD7YG7FYNBX...   \n",
              "2  AGU3BBQ2V2DDAMOAKGFAWDDQ6QHA,AESFLDV2PT363T2AQ...   \n",
              "3  AEWAZDZZJLQUYVOVGBEUKSLXHQ5A,AG5HTSFRRE6NL3M5S...   \n",
              "4  AE3Q6KSUK5P75D5HFYHCRAOLODSA,AFUGIFH5ZAFXRDSZH...   \n",
              "\n",
              "                                        review_title  \\\n",
              "0  Satisfied,Charging is really fast,Value for mo...   \n",
              "1  A Good Braided Cable for Your Type C Device,Go...   \n",
              "2  Good speed for earlier versions,Good Product,W...   \n",
              "3  Good product,Good one,Nice,Really nice product...   \n",
              "4  As good as original,Decent,Good one for second...   \n",
              "\n",
              "                                      review_content  \n",
              "0  Looks durable Charging is fine tooNo complains...  \n",
              "1  I ordered this cable to connect my phone to An...  \n",
              "2  Not quite durable and sturdy,https://m.media-a...  \n",
              "3  Good product,long wire,Charges good,Nice,I bou...  \n",
              "4  Bought this instead of original apple, does th...  "
            ]
          },
          "execution_count": 44,
          "metadata": {},
          "output_type": "execute_result"
        }
      ],
      "source": [
        "data.head()"
      ]
    },
    {
      "cell_type": "code",
      "execution_count": 45,
      "metadata": {
        "colab": {
          "base_uri": "https://localhost:8080/"
        },
        "id": "zEa_vgP9k1sr",
        "outputId": "125cc481-8015-4660-8d70-165568b1ef63"
      },
      "outputs": [
        {
          "name": "stdout",
          "output_type": "stream",
          "text": [
            "<class 'pandas.core.frame.DataFrame'>\n",
            "RangeIndex: 1465 entries, 0 to 1464\n",
            "Data columns (total 9 columns):\n",
            " #   Column            Non-Null Count  Dtype \n",
            "---  ------            --------------  ----- \n",
            " 0   product_id        1465 non-null   object\n",
            " 1   category          1465 non-null   object\n",
            " 2   discounted_price  1465 non-null   object\n",
            " 3   actual_price      1465 non-null   object\n",
            " 4   rating            1465 non-null   object\n",
            " 5   rating_count      1463 non-null   object\n",
            " 6   user_id           1465 non-null   object\n",
            " 7   review_title      1465 non-null   object\n",
            " 8   review_content    1465 non-null   object\n",
            "dtypes: object(9)\n",
            "memory usage: 103.1+ KB\n"
          ]
        }
      ],
      "source": [
        "data.info()"
      ]
    },
    {
      "cell_type": "code",
      "execution_count": 46,
      "metadata": {
        "id": "WaL02EHp5zAw"
      },
      "outputs": [],
      "source": [
        "def convert(d: str):\n",
        "  x = str(data[d][i])\n",
        "  st = \"\"\n",
        "  for j in x:\n",
        "    if (j >= '0' and j <= '9') or j == '.':\n",
        "      st += j\n",
        "  return st\n",
        "\n",
        "lis = [\"discounted_price\", \"actual_price\", \"rating\", \"rating_count\"]\n",
        "\n",
        "for i in range(len(data)):\n",
        "  for d in lis:\n",
        "    x = convert(d)\n",
        "    data.loc[i, d] = x\n",
        "    if len(x) > 0:\n",
        "      data.loc[i, d] = float(x)"
      ]
    },
    {
      "cell_type": "code",
      "execution_count": 47,
      "metadata": {
        "colab": {
          "base_uri": "https://localhost:8080/",
          "height": 504
        },
        "id": "RTaMi7Q17Hqr",
        "outputId": "04eab5ba-ca63-45da-fcfb-fd90beee67f8"
      },
      "outputs": [
        {
          "data": {
            "text/html": [
              "<div>\n",
              "<style scoped>\n",
              "    .dataframe tbody tr th:only-of-type {\n",
              "        vertical-align: middle;\n",
              "    }\n",
              "\n",
              "    .dataframe tbody tr th {\n",
              "        vertical-align: top;\n",
              "    }\n",
              "\n",
              "    .dataframe thead th {\n",
              "        text-align: right;\n",
              "    }\n",
              "</style>\n",
              "<table border=\"1\" class=\"dataframe\">\n",
              "  <thead>\n",
              "    <tr style=\"text-align: right;\">\n",
              "      <th></th>\n",
              "      <th>product_id</th>\n",
              "      <th>category</th>\n",
              "      <th>discounted_price</th>\n",
              "      <th>actual_price</th>\n",
              "      <th>rating</th>\n",
              "      <th>rating_count</th>\n",
              "      <th>user_id</th>\n",
              "      <th>review_title</th>\n",
              "      <th>review_content</th>\n",
              "    </tr>\n",
              "  </thead>\n",
              "  <tbody>\n",
              "    <tr>\n",
              "      <th>0</th>\n",
              "      <td>B07JW9H4J1</td>\n",
              "      <td>Computers&amp;Accessories|Accessories&amp;Peripherals|...</td>\n",
              "      <td>399.0</td>\n",
              "      <td>1099.0</td>\n",
              "      <td>4.2</td>\n",
              "      <td>24269.0</td>\n",
              "      <td>AG3D6O4STAQKAY2UVGEUV46KN35Q,AHMY5CWJMMK5BJRBB...</td>\n",
              "      <td>Satisfied,Charging is really fast,Value for mo...</td>\n",
              "      <td>Looks durable Charging is fine tooNo complains...</td>\n",
              "    </tr>\n",
              "    <tr>\n",
              "      <th>1</th>\n",
              "      <td>B098NS6PVG</td>\n",
              "      <td>Computers&amp;Accessories|Accessories&amp;Peripherals|...</td>\n",
              "      <td>199.0</td>\n",
              "      <td>349.0</td>\n",
              "      <td>4.0</td>\n",
              "      <td>43994.0</td>\n",
              "      <td>AECPFYFQVRUWC3KGNLJIOREFP5LQ,AGYYVPDD7YG7FYNBX...</td>\n",
              "      <td>A Good Braided Cable for Your Type C Device,Go...</td>\n",
              "      <td>I ordered this cable to connect my phone to An...</td>\n",
              "    </tr>\n",
              "    <tr>\n",
              "      <th>2</th>\n",
              "      <td>B096MSW6CT</td>\n",
              "      <td>Computers&amp;Accessories|Accessories&amp;Peripherals|...</td>\n",
              "      <td>199.0</td>\n",
              "      <td>1899.0</td>\n",
              "      <td>3.9</td>\n",
              "      <td>7928.0</td>\n",
              "      <td>AGU3BBQ2V2DDAMOAKGFAWDDQ6QHA,AESFLDV2PT363T2AQ...</td>\n",
              "      <td>Good speed for earlier versions,Good Product,W...</td>\n",
              "      <td>Not quite durable and sturdy,https://m.media-a...</td>\n",
              "    </tr>\n",
              "    <tr>\n",
              "      <th>3</th>\n",
              "      <td>B08HDJ86NZ</td>\n",
              "      <td>Computers&amp;Accessories|Accessories&amp;Peripherals|...</td>\n",
              "      <td>329.0</td>\n",
              "      <td>699.0</td>\n",
              "      <td>4.2</td>\n",
              "      <td>94363.0</td>\n",
              "      <td>AEWAZDZZJLQUYVOVGBEUKSLXHQ5A,AG5HTSFRRE6NL3M5S...</td>\n",
              "      <td>Good product,Good one,Nice,Really nice product...</td>\n",
              "      <td>Good product,long wire,Charges good,Nice,I bou...</td>\n",
              "    </tr>\n",
              "    <tr>\n",
              "      <th>4</th>\n",
              "      <td>B08CF3B7N1</td>\n",
              "      <td>Computers&amp;Accessories|Accessories&amp;Peripherals|...</td>\n",
              "      <td>154.0</td>\n",
              "      <td>399.0</td>\n",
              "      <td>4.2</td>\n",
              "      <td>16905.0</td>\n",
              "      <td>AE3Q6KSUK5P75D5HFYHCRAOLODSA,AFUGIFH5ZAFXRDSZH...</td>\n",
              "      <td>As good as original,Decent,Good one for second...</td>\n",
              "      <td>Bought this instead of original apple, does th...</td>\n",
              "    </tr>\n",
              "  </tbody>\n",
              "</table>\n",
              "</div>"
            ],
            "text/plain": [
              "   product_id                                           category  \\\n",
              "0  B07JW9H4J1  Computers&Accessories|Accessories&Peripherals|...   \n",
              "1  B098NS6PVG  Computers&Accessories|Accessories&Peripherals|...   \n",
              "2  B096MSW6CT  Computers&Accessories|Accessories&Peripherals|...   \n",
              "3  B08HDJ86NZ  Computers&Accessories|Accessories&Peripherals|...   \n",
              "4  B08CF3B7N1  Computers&Accessories|Accessories&Peripherals|...   \n",
              "\n",
              "  discounted_price actual_price rating rating_count  \\\n",
              "0            399.0       1099.0    4.2      24269.0   \n",
              "1            199.0        349.0    4.0      43994.0   \n",
              "2            199.0       1899.0    3.9       7928.0   \n",
              "3            329.0        699.0    4.2      94363.0   \n",
              "4            154.0        399.0    4.2      16905.0   \n",
              "\n",
              "                                             user_id  \\\n",
              "0  AG3D6O4STAQKAY2UVGEUV46KN35Q,AHMY5CWJMMK5BJRBB...   \n",
              "1  AECPFYFQVRUWC3KGNLJIOREFP5LQ,AGYYVPDD7YG7FYNBX...   \n",
              "2  AGU3BBQ2V2DDAMOAKGFAWDDQ6QHA,AESFLDV2PT363T2AQ...   \n",
              "3  AEWAZDZZJLQUYVOVGBEUKSLXHQ5A,AG5HTSFRRE6NL3M5S...   \n",
              "4  AE3Q6KSUK5P75D5HFYHCRAOLODSA,AFUGIFH5ZAFXRDSZH...   \n",
              "\n",
              "                                        review_title  \\\n",
              "0  Satisfied,Charging is really fast,Value for mo...   \n",
              "1  A Good Braided Cable for Your Type C Device,Go...   \n",
              "2  Good speed for earlier versions,Good Product,W...   \n",
              "3  Good product,Good one,Nice,Really nice product...   \n",
              "4  As good as original,Decent,Good one for second...   \n",
              "\n",
              "                                      review_content  \n",
              "0  Looks durable Charging is fine tooNo complains...  \n",
              "1  I ordered this cable to connect my phone to An...  \n",
              "2  Not quite durable and sturdy,https://m.media-a...  \n",
              "3  Good product,long wire,Charges good,Nice,I bou...  \n",
              "4  Bought this instead of original apple, does th...  "
            ]
          },
          "execution_count": 47,
          "metadata": {},
          "output_type": "execute_result"
        }
      ],
      "source": [
        "data.head()"
      ]
    },
    {
      "cell_type": "code",
      "execution_count": 48,
      "metadata": {
        "id": "mEaQqrM0hTvd"
      },
      "outputs": [],
      "source": [
        "data[\"vis\"] = 0;\n",
        "visted = [0] * len(data)"
      ]
    },
    {
      "cell_type": "code",
      "execution_count": 49,
      "metadata": {
        "id": "v6ft0NCihxou"
      },
      "outputs": [],
      "source": [
        "for i in range(len(data)):\n",
        "  data.loc[i, 'vis'] = i"
      ]
    },
    {
      "cell_type": "code",
      "execution_count": 50,
      "metadata": {
        "colab": {
          "base_uri": "https://localhost:8080/"
        },
        "id": "e60d7QJFuuCp",
        "outputId": "7af5c486-5a0f-4990-c599-9a1c84ea193b"
      },
      "outputs": [
        {
          "name": "stdout",
          "output_type": "stream",
          "text": [
            "476\n",
            "14\n",
            "767\n",
            "B08YD264ZS\n",
            "Good\n",
            "Quite Good\n",
            " just a little too costly\n",
            " but worth it\n",
            "Best in this budget segment\n",
            "Table is good\n",
            "\n",
            " wood is hard\n",
            " legs are strong\n",
            " but plastic frame is broken at one corner\n",
            "The product quality is good. The size is small. It is stable not bending while working on table.\n",
            "Good 👍\n",
            "Perfect for WFH !\n",
            "Best buy\n",
            "Good  -  1\n",
            "Quite Good  -  2\n",
            "Best in this budget segment  -  3\n",
            "Table is good  -  4\n",
            "The product quality is good. The size is small. It is stable not bending while working on table.  -  5\n",
            "Good 👍  -  6\n",
            "Perfect for WFH !  -  7\n",
            "Best buy  -  8\n",
            "=======================\n",
            "8\n",
            "AHXVJ4RECEDVRCX2R7BYOMRO7KJQ\n",
            "AEUNZGZ7IQFCJEFHU647HB57FC2Q\n",
            "AEUWYI55HVW2GO4GRLWK4PWCTPLQ\n",
            "AEDRDM7OTIWIAOWELAEAITODC4EA\n",
            "AEDZ4OLR66LZO57XWMR6F43K736A\n",
            "AEIXRXVWCR62IELG44BI5F7ZZUSQ\n",
            "AFMCGE5U34NNKT2AGRY5TPX4OHKQ\n",
            "AEFVX5GYQ6Y5MQSA25IP2FM2ZKTA\n"
          ]
        }
      ],
      "source": [
        "ans = 0\n",
        "y, index = 0, 0\n",
        "for i in range(len(data)):\n",
        "    user_id_len = len(str(data['user_id'][i]).split(\",\"))\n",
        "    review_title_len = len(str(data['review_title'][i]).split(\",\"))\n",
        "    if review_title_len != user_id_len:\n",
        "        if (abs(review_title_len - user_id_len) > y):\n",
        "            y = abs(review_title_len - user_id_len)\n",
        "            index = i\n",
        "        ans += 1\n",
        "print(ans)\n",
        "x = (str(data['review_title'][index]).split(\",\"))\n",
        "print(len(x))\n",
        "print(index)\n",
        "okians= 1\n",
        "print(data[\"product_id\"][index])\n",
        "for i in x:\n",
        "    print(i)\n",
        "for i in x:\n",
        "    oki = i\n",
        "    if len(oki) >= 1 and oki[0] >= \"A\" and oki[0] <= \"Z\":\n",
        "        print(i, \" - \", okians)\n",
        "        okians += 1\n",
        "y = (str(data['user_id'][index]).split(\",\"))\n",
        "print(\"=======================\")\n",
        "print(len(y))\n",
        "for i in y:\n",
        "    print(i)"
      ]
    },
    {
      "cell_type": "code",
      "execution_count": 51,
      "metadata": {
        "id": "_G-hHNB2Mpqz"
      },
      "outputs": [],
      "source": [
        "ans = 0\n",
        "y, index = 0, 0\n",
        "i = 0\n",
        "while(i < len(data)):\n",
        "    lis_user = str(data['user_id'][i]).split(\",\")\n",
        "    lis_review = str(data['review_title'][i]).split(\",\")\n",
        "    if len(lis_user) <= len(lis_review) and visted[data[\"vis\"][i]] == 0:\n",
        "        if len(lis_user) > 1:\n",
        "            copy = data.iloc[[i]]\n",
        "            new = pd.concat([copy] * (len(lis_user) - 1), ignore_index=True)\n",
        "            data = pd.concat([data.iloc[:i+1], new, data.iloc[i+1:]], ignore_index=True)\n",
        "\n",
        "            d = i\n",
        "            for j in range(len(lis_user)):\n",
        "                data.loc[d, 'user_id'] = lis_user[j]\n",
        "                d += 1\n",
        "            tmp = \"\"\n",
        "            okicheck = 0\n",
        "            j, d = 0, i\n",
        "            m = []\n",
        "            for j in lis_review:\n",
        "                if len(j) >= 1:\n",
        "                  m.append(j)\n",
        "            lis_review = m\n",
        "            j, d = 0, i\n",
        "            while (j < len(lis_review)):\n",
        "                x = lis_review[j]\n",
        "                if x[0] >= \"A\" and x[0] <= \"Z\":\n",
        "                    tmp = x\n",
        "                    for z in range(j + 1, len(lis_review)):\n",
        "                        y = lis_review[z]\n",
        "                        if (y[0] >= \"A\" and y[0] <= \"Z\") == False:\n",
        "                            tmp = tmp + \" \" + y\n",
        "                        else:\n",
        "                            j = z - 1\n",
        "                            break\n",
        "                    data.loc[d, 'review_title'] = tmp\n",
        "                    d += 1\n",
        "                j += 1\n",
        "            index = d\n",
        "\n",
        "        visted[data[\"vis\"][i]] = 1\n",
        "    i += 1\n"
      ]
    },
    {
      "cell_type": "code",
      "execution_count": 52,
      "metadata": {
        "colab": {
          "base_uri": "https://localhost:8080/"
        },
        "id": "G0NMyv7mZu6U",
        "outputId": "0bee07bf-fdf5-49c5-b066-c888875f2ab8"
      },
      "outputs": [
        {
          "name": "stdout",
          "output_type": "stream",
          "text": [
            "1 AHXVJ4RECEDVRCX2R7BYOMRO7KJQ Good\n",
            "1 AEUNZGZ7IQFCJEFHU647HB57FC2Q Quite Good  just a little too costly  but worth it\n",
            "1 AEUWYI55HVW2GO4GRLWK4PWCTPLQ Best in this budget segment\n",
            "1 AEDRDM7OTIWIAOWELAEAITODC4EA Table is good  wood is hard  legs are strong  but plastic frame is broken at one corner\n",
            "1 AEDZ4OLR66LZO57XWMR6F43K736A The product quality is good. The size is small. It is stable not bending while working on table.\n",
            "1 AEIXRXVWCR62IELG44BI5F7ZZUSQ Good 👍\n",
            "1 AFMCGE5U34NNKT2AGRY5TPX4OHKQ Perfect for WFH !\n",
            "1 AEFVX5GYQ6Y5MQSA25IP2FM2ZKTA Best buy\n"
          ]
        }
      ],
      "source": [
        "\n",
        "ans = 0\n",
        "for i in range(len(data)):\n",
        "  if data[\"product_id\"][i] == \"B08YD264ZS\":\n",
        "    print(visted[data[\"vis\"][i]], data[\"user_id\"][i], data[\"review_title\"][i])\n",
        "    ans += 1\n"
      ]
    },
    {
      "cell_type": "code",
      "execution_count": 53,
      "metadata": {
        "colab": {
          "base_uri": "https://localhost:8080/",
          "height": 1000
        },
        "id": "O4IzGjb4yXy-",
        "outputId": "b15eed49-d48a-4f06-ea85-2c2ffc55791e"
      },
      "outputs": [
        {
          "name": "stdout",
          "output_type": "stream",
          "text": [
            "<class 'pandas.core.frame.DataFrame'>\n",
            "RangeIndex: 11454 entries, 0 to 11453\n",
            "Data columns (total 10 columns):\n",
            " #   Column            Non-Null Count  Dtype \n",
            "---  ------            --------------  ----- \n",
            " 0   product_id        11454 non-null  object\n",
            " 1   category          11454 non-null  object\n",
            " 2   discounted_price  11454 non-null  object\n",
            " 3   actual_price      11454 non-null  object\n",
            " 4   rating            11454 non-null  object\n",
            " 5   rating_count      11454 non-null  object\n",
            " 6   user_id           11454 non-null  object\n",
            " 7   review_title      11454 non-null  object\n",
            " 8   review_content    11454 non-null  object\n",
            " 9   vis               11454 non-null  int64 \n",
            "dtypes: int64(1), object(9)\n",
            "memory usage: 895.0+ KB\n"
          ]
        },
        {
          "data": {
            "text/html": [
              "<div>\n",
              "<style scoped>\n",
              "    .dataframe tbody tr th:only-of-type {\n",
              "        vertical-align: middle;\n",
              "    }\n",
              "\n",
              "    .dataframe tbody tr th {\n",
              "        vertical-align: top;\n",
              "    }\n",
              "\n",
              "    .dataframe thead th {\n",
              "        text-align: right;\n",
              "    }\n",
              "</style>\n",
              "<table border=\"1\" class=\"dataframe\">\n",
              "  <thead>\n",
              "    <tr style=\"text-align: right;\">\n",
              "      <th></th>\n",
              "      <th>product_id</th>\n",
              "      <th>category</th>\n",
              "      <th>discounted_price</th>\n",
              "      <th>actual_price</th>\n",
              "      <th>rating</th>\n",
              "      <th>rating_count</th>\n",
              "      <th>user_id</th>\n",
              "      <th>review_title</th>\n",
              "      <th>review_content</th>\n",
              "      <th>vis</th>\n",
              "    </tr>\n",
              "  </thead>\n",
              "  <tbody>\n",
              "    <tr>\n",
              "      <th>0</th>\n",
              "      <td>B07JW9H4J1</td>\n",
              "      <td>Computers&amp;Accessories|Accessories&amp;Peripherals|...</td>\n",
              "      <td>399.0</td>\n",
              "      <td>1099.0</td>\n",
              "      <td>4.2</td>\n",
              "      <td>24269.0</td>\n",
              "      <td>AG3D6O4STAQKAY2UVGEUV46KN35Q</td>\n",
              "      <td>Satisfied</td>\n",
              "      <td>Looks durable Charging is fine tooNo complains...</td>\n",
              "      <td>0</td>\n",
              "    </tr>\n",
              "    <tr>\n",
              "      <th>1</th>\n",
              "      <td>B07JW9H4J1</td>\n",
              "      <td>Computers&amp;Accessories|Accessories&amp;Peripherals|...</td>\n",
              "      <td>399.0</td>\n",
              "      <td>1099.0</td>\n",
              "      <td>4.2</td>\n",
              "      <td>24269.0</td>\n",
              "      <td>AHMY5CWJMMK5BJRBBSNLYT3ONILA</td>\n",
              "      <td>Charging is really fast</td>\n",
              "      <td>Looks durable Charging is fine tooNo complains...</td>\n",
              "      <td>0</td>\n",
              "    </tr>\n",
              "    <tr>\n",
              "      <th>2</th>\n",
              "      <td>B07JW9H4J1</td>\n",
              "      <td>Computers&amp;Accessories|Accessories&amp;Peripherals|...</td>\n",
              "      <td>399.0</td>\n",
              "      <td>1099.0</td>\n",
              "      <td>4.2</td>\n",
              "      <td>24269.0</td>\n",
              "      <td>AHCTC6ULH4XB6YHDY6PCH2R772LQ</td>\n",
              "      <td>Value for money</td>\n",
              "      <td>Looks durable Charging is fine tooNo complains...</td>\n",
              "      <td>0</td>\n",
              "    </tr>\n",
              "    <tr>\n",
              "      <th>3</th>\n",
              "      <td>B07JW9H4J1</td>\n",
              "      <td>Computers&amp;Accessories|Accessories&amp;Peripherals|...</td>\n",
              "      <td>399.0</td>\n",
              "      <td>1099.0</td>\n",
              "      <td>4.2</td>\n",
              "      <td>24269.0</td>\n",
              "      <td>AGYHHIERNXKA6P5T7CZLXKVPT7IQ</td>\n",
              "      <td>Product review</td>\n",
              "      <td>Looks durable Charging is fine tooNo complains...</td>\n",
              "      <td>0</td>\n",
              "    </tr>\n",
              "    <tr>\n",
              "      <th>4</th>\n",
              "      <td>B07JW9H4J1</td>\n",
              "      <td>Computers&amp;Accessories|Accessories&amp;Peripherals|...</td>\n",
              "      <td>399.0</td>\n",
              "      <td>1099.0</td>\n",
              "      <td>4.2</td>\n",
              "      <td>24269.0</td>\n",
              "      <td>AG4OGOFWXJZTQ2HKYIOCOY3KXF2Q</td>\n",
              "      <td>Good quality</td>\n",
              "      <td>Looks durable Charging is fine tooNo complains...</td>\n",
              "      <td>0</td>\n",
              "    </tr>\n",
              "    <tr>\n",
              "      <th>...</th>\n",
              "      <td>...</td>\n",
              "      <td>...</td>\n",
              "      <td>...</td>\n",
              "      <td>...</td>\n",
              "      <td>...</td>\n",
              "      <td>...</td>\n",
              "      <td>...</td>\n",
              "      <td>...</td>\n",
              "      <td>...</td>\n",
              "      <td>...</td>\n",
              "    </tr>\n",
              "    <tr>\n",
              "      <th>11449</th>\n",
              "      <td>B01486F4G6</td>\n",
              "      <td>Home&amp;Kitchen|Kitchen&amp;HomeAppliances|SmallKitch...</td>\n",
              "      <td>2863.0</td>\n",
              "      <td>3690.0</td>\n",
              "      <td>4.3</td>\n",
              "      <td>6987.0</td>\n",
              "      <td>AHXCDNSXAESERITAFELQABFVNLCA</td>\n",
              "      <td>Excellent product✌</td>\n",
              "      <td>It does it job perfectly..only issue is temp c...</td>\n",
              "      <td>1464</td>\n",
              "    </tr>\n",
              "    <tr>\n",
              "      <th>11450</th>\n",
              "      <td>B01486F4G6</td>\n",
              "      <td>Home&amp;Kitchen|Kitchen&amp;HomeAppliances|SmallKitch...</td>\n",
              "      <td>2863.0</td>\n",
              "      <td>3690.0</td>\n",
              "      <td>4.3</td>\n",
              "      <td>6987.0</td>\n",
              "      <td>AGRZD6CHLCUNOLMMIMIHUCG7PIFA</td>\n",
              "      <td>A good product for household use मुझे बिल्कुल ...</td>\n",
              "      <td>It does it job perfectly..only issue is temp c...</td>\n",
              "      <td>1464</td>\n",
              "    </tr>\n",
              "    <tr>\n",
              "      <th>11451</th>\n",
              "      <td>B01486F4G6</td>\n",
              "      <td>Home&amp;Kitchen|Kitchen&amp;HomeAppliances|SmallKitch...</td>\n",
              "      <td>2863.0</td>\n",
              "      <td>3690.0</td>\n",
              "      <td>4.3</td>\n",
              "      <td>6987.0</td>\n",
              "      <td>AFQZVGSOSOJHKFQQMCEI4725QEKQ</td>\n",
              "      <td>Best product</td>\n",
              "      <td>It does it job perfectly..only issue is temp c...</td>\n",
              "      <td>1464</td>\n",
              "    </tr>\n",
              "    <tr>\n",
              "      <th>11452</th>\n",
              "      <td>B01486F4G6</td>\n",
              "      <td>Home&amp;Kitchen|Kitchen&amp;HomeAppliances|SmallKitch...</td>\n",
              "      <td>2863.0</td>\n",
              "      <td>3690.0</td>\n",
              "      <td>4.3</td>\n",
              "      <td>6987.0</td>\n",
              "      <td>AEALVGXXIP46OZVXKRUXSDWZJMEA</td>\n",
              "      <td>Good</td>\n",
              "      <td>It does it job perfectly..only issue is temp c...</td>\n",
              "      <td>1464</td>\n",
              "    </tr>\n",
              "    <tr>\n",
              "      <th>11453</th>\n",
              "      <td>B01486F4G6</td>\n",
              "      <td>Home&amp;Kitchen|Kitchen&amp;HomeAppliances|SmallKitch...</td>\n",
              "      <td>2863.0</td>\n",
              "      <td>3690.0</td>\n",
              "      <td>4.3</td>\n",
              "      <td>6987.0</td>\n",
              "      <td>AGEFL3AY7YXEFZA4ZJU3LP7K7OJQ</td>\n",
              "      <td>Works perfect,Ok good product,Nice Product. Re...</td>\n",
              "      <td>It does it job perfectly..only issue is temp c...</td>\n",
              "      <td>1464</td>\n",
              "    </tr>\n",
              "  </tbody>\n",
              "</table>\n",
              "<p>11454 rows × 10 columns</p>\n",
              "</div>"
            ],
            "text/plain": [
              "       product_id                                           category  \\\n",
              "0      B07JW9H4J1  Computers&Accessories|Accessories&Peripherals|...   \n",
              "1      B07JW9H4J1  Computers&Accessories|Accessories&Peripherals|...   \n",
              "2      B07JW9H4J1  Computers&Accessories|Accessories&Peripherals|...   \n",
              "3      B07JW9H4J1  Computers&Accessories|Accessories&Peripherals|...   \n",
              "4      B07JW9H4J1  Computers&Accessories|Accessories&Peripherals|...   \n",
              "...           ...                                                ...   \n",
              "11449  B01486F4G6  Home&Kitchen|Kitchen&HomeAppliances|SmallKitch...   \n",
              "11450  B01486F4G6  Home&Kitchen|Kitchen&HomeAppliances|SmallKitch...   \n",
              "11451  B01486F4G6  Home&Kitchen|Kitchen&HomeAppliances|SmallKitch...   \n",
              "11452  B01486F4G6  Home&Kitchen|Kitchen&HomeAppliances|SmallKitch...   \n",
              "11453  B01486F4G6  Home&Kitchen|Kitchen&HomeAppliances|SmallKitch...   \n",
              "\n",
              "      discounted_price actual_price rating rating_count  \\\n",
              "0                399.0       1099.0    4.2      24269.0   \n",
              "1                399.0       1099.0    4.2      24269.0   \n",
              "2                399.0       1099.0    4.2      24269.0   \n",
              "3                399.0       1099.0    4.2      24269.0   \n",
              "4                399.0       1099.0    4.2      24269.0   \n",
              "...                ...          ...    ...          ...   \n",
              "11449           2863.0       3690.0    4.3       6987.0   \n",
              "11450           2863.0       3690.0    4.3       6987.0   \n",
              "11451           2863.0       3690.0    4.3       6987.0   \n",
              "11452           2863.0       3690.0    4.3       6987.0   \n",
              "11453           2863.0       3690.0    4.3       6987.0   \n",
              "\n",
              "                            user_id  \\\n",
              "0      AG3D6O4STAQKAY2UVGEUV46KN35Q   \n",
              "1      AHMY5CWJMMK5BJRBBSNLYT3ONILA   \n",
              "2      AHCTC6ULH4XB6YHDY6PCH2R772LQ   \n",
              "3      AGYHHIERNXKA6P5T7CZLXKVPT7IQ   \n",
              "4      AG4OGOFWXJZTQ2HKYIOCOY3KXF2Q   \n",
              "...                             ...   \n",
              "11449  AHXCDNSXAESERITAFELQABFVNLCA   \n",
              "11450  AGRZD6CHLCUNOLMMIMIHUCG7PIFA   \n",
              "11451  AFQZVGSOSOJHKFQQMCEI4725QEKQ   \n",
              "11452  AEALVGXXIP46OZVXKRUXSDWZJMEA   \n",
              "11453  AGEFL3AY7YXEFZA4ZJU3LP7K7OJQ   \n",
              "\n",
              "                                            review_title  \\\n",
              "0                                              Satisfied   \n",
              "1                                Charging is really fast   \n",
              "2                                        Value for money   \n",
              "3                                         Product review   \n",
              "4                                           Good quality   \n",
              "...                                                  ...   \n",
              "11449                                 Excellent product✌   \n",
              "11450  A good product for household use मुझे बिल्कुल ...   \n",
              "11451                                       Best product   \n",
              "11452                                               Good   \n",
              "11453  Works perfect,Ok good product,Nice Product. Re...   \n",
              "\n",
              "                                          review_content   vis  \n",
              "0      Looks durable Charging is fine tooNo complains...     0  \n",
              "1      Looks durable Charging is fine tooNo complains...     0  \n",
              "2      Looks durable Charging is fine tooNo complains...     0  \n",
              "3      Looks durable Charging is fine tooNo complains...     0  \n",
              "4      Looks durable Charging is fine tooNo complains...     0  \n",
              "...                                                  ...   ...  \n",
              "11449  It does it job perfectly..only issue is temp c...  1464  \n",
              "11450  It does it job perfectly..only issue is temp c...  1464  \n",
              "11451  It does it job perfectly..only issue is temp c...  1464  \n",
              "11452  It does it job perfectly..only issue is temp c...  1464  \n",
              "11453  It does it job perfectly..only issue is temp c...  1464  \n",
              "\n",
              "[11454 rows x 10 columns]"
            ]
          },
          "execution_count": 53,
          "metadata": {},
          "output_type": "execute_result"
        }
      ],
      "source": [
        "data.info()\n",
        "data"
      ]
    },
    {
      "cell_type": "code",
      "execution_count": 54,
      "metadata": {
        "id": "UVrVDdum8z_v"
      },
      "outputs": [],
      "source": [
        "li, li2 = [], []\n",
        "for i in range(len(data)):\n",
        "    li.append(data[\"user_id\"][i])\n",
        "    li2.append(data[\"review_title\"][i])\n",
        "\n",
        "seli = set(li)\n",
        "seli2 = set(li2)\n",
        "\n",
        "\n",
        "li, li2 = list(seli), list(seli2)\n",
        "d, d2 = 1, 1\n",
        "dicli = {}\n",
        "for i in li:\n",
        "    dicli[i] = d\n",
        "    d += 1\n",
        "\n",
        "for i in range(len(data)):\n",
        "    data.loc[i, 'user_id'] = dicli[data[\"user_id\"][i]]\n"
      ]
    },
    {
      "cell_type": "code",
      "execution_count": 55,
      "metadata": {
        "id": "PxEbZa9EWvGh"
      },
      "outputs": [],
      "source": [
        "# import sys\n",
        "# sys.stdout = open('output.txt', 'w')\n",
        "\n",
        "# for i in li2:\n",
        "#   print(i)"
      ]
    },
    {
      "cell_type": "code",
      "execution_count": 56,
      "metadata": {
        "colab": {
          "base_uri": "https://localhost:8080/",
          "height": 487
        },
        "id": "LhoiHcu0_Rx3",
        "outputId": "27aeb0ba-9916-4d1e-a8cb-e7319bca7692"
      },
      "outputs": [
        {
          "data": {
            "text/html": [
              "<div>\n",
              "<style scoped>\n",
              "    .dataframe tbody tr th:only-of-type {\n",
              "        vertical-align: middle;\n",
              "    }\n",
              "\n",
              "    .dataframe tbody tr th {\n",
              "        vertical-align: top;\n",
              "    }\n",
              "\n",
              "    .dataframe thead th {\n",
              "        text-align: right;\n",
              "    }\n",
              "</style>\n",
              "<table border=\"1\" class=\"dataframe\">\n",
              "  <thead>\n",
              "    <tr style=\"text-align: right;\">\n",
              "      <th></th>\n",
              "      <th>product_id</th>\n",
              "      <th>category</th>\n",
              "      <th>discounted_price</th>\n",
              "      <th>actual_price</th>\n",
              "      <th>rating</th>\n",
              "      <th>rating_count</th>\n",
              "      <th>user_id</th>\n",
              "      <th>review_title</th>\n",
              "      <th>review_content</th>\n",
              "      <th>vis</th>\n",
              "    </tr>\n",
              "  </thead>\n",
              "  <tbody>\n",
              "    <tr>\n",
              "      <th>0</th>\n",
              "      <td>B07JW9H4J1</td>\n",
              "      <td>Computers&amp;Accessories|Accessories&amp;Peripherals|...</td>\n",
              "      <td>399.0</td>\n",
              "      <td>1099.0</td>\n",
              "      <td>4.2</td>\n",
              "      <td>24269.0</td>\n",
              "      <td>3251</td>\n",
              "      <td>Satisfied</td>\n",
              "      <td>Looks durable Charging is fine tooNo complains...</td>\n",
              "      <td>0</td>\n",
              "    </tr>\n",
              "    <tr>\n",
              "      <th>1</th>\n",
              "      <td>B07JW9H4J1</td>\n",
              "      <td>Computers&amp;Accessories|Accessories&amp;Peripherals|...</td>\n",
              "      <td>399.0</td>\n",
              "      <td>1099.0</td>\n",
              "      <td>4.2</td>\n",
              "      <td>24269.0</td>\n",
              "      <td>220</td>\n",
              "      <td>Charging is really fast</td>\n",
              "      <td>Looks durable Charging is fine tooNo complains...</td>\n",
              "      <td>0</td>\n",
              "    </tr>\n",
              "    <tr>\n",
              "      <th>2</th>\n",
              "      <td>B07JW9H4J1</td>\n",
              "      <td>Computers&amp;Accessories|Accessories&amp;Peripherals|...</td>\n",
              "      <td>399.0</td>\n",
              "      <td>1099.0</td>\n",
              "      <td>4.2</td>\n",
              "      <td>24269.0</td>\n",
              "      <td>6266</td>\n",
              "      <td>Value for money</td>\n",
              "      <td>Looks durable Charging is fine tooNo complains...</td>\n",
              "      <td>0</td>\n",
              "    </tr>\n",
              "    <tr>\n",
              "      <th>3</th>\n",
              "      <td>B07JW9H4J1</td>\n",
              "      <td>Computers&amp;Accessories|Accessories&amp;Peripherals|...</td>\n",
              "      <td>399.0</td>\n",
              "      <td>1099.0</td>\n",
              "      <td>4.2</td>\n",
              "      <td>24269.0</td>\n",
              "      <td>4951</td>\n",
              "      <td>Product review</td>\n",
              "      <td>Looks durable Charging is fine tooNo complains...</td>\n",
              "      <td>0</td>\n",
              "    </tr>\n",
              "    <tr>\n",
              "      <th>4</th>\n",
              "      <td>B07JW9H4J1</td>\n",
              "      <td>Computers&amp;Accessories|Accessories&amp;Peripherals|...</td>\n",
              "      <td>399.0</td>\n",
              "      <td>1099.0</td>\n",
              "      <td>4.2</td>\n",
              "      <td>24269.0</td>\n",
              "      <td>7542</td>\n",
              "      <td>Good quality</td>\n",
              "      <td>Looks durable Charging is fine tooNo complains...</td>\n",
              "      <td>0</td>\n",
              "    </tr>\n",
              "  </tbody>\n",
              "</table>\n",
              "</div>"
            ],
            "text/plain": [
              "   product_id                                           category  \\\n",
              "0  B07JW9H4J1  Computers&Accessories|Accessories&Peripherals|...   \n",
              "1  B07JW9H4J1  Computers&Accessories|Accessories&Peripherals|...   \n",
              "2  B07JW9H4J1  Computers&Accessories|Accessories&Peripherals|...   \n",
              "3  B07JW9H4J1  Computers&Accessories|Accessories&Peripherals|...   \n",
              "4  B07JW9H4J1  Computers&Accessories|Accessories&Peripherals|...   \n",
              "\n",
              "  discounted_price actual_price rating rating_count user_id  \\\n",
              "0            399.0       1099.0    4.2      24269.0    3251   \n",
              "1            399.0       1099.0    4.2      24269.0     220   \n",
              "2            399.0       1099.0    4.2      24269.0    6266   \n",
              "3            399.0       1099.0    4.2      24269.0    4951   \n",
              "4            399.0       1099.0    4.2      24269.0    7542   \n",
              "\n",
              "              review_title                                     review_content  \\\n",
              "0                Satisfied  Looks durable Charging is fine tooNo complains...   \n",
              "1  Charging is really fast  Looks durable Charging is fine tooNo complains...   \n",
              "2          Value for money  Looks durable Charging is fine tooNo complains...   \n",
              "3           Product review  Looks durable Charging is fine tooNo complains...   \n",
              "4             Good quality  Looks durable Charging is fine tooNo complains...   \n",
              "\n",
              "   vis  \n",
              "0    0  \n",
              "1    0  \n",
              "2    0  \n",
              "3    0  \n",
              "4    0  "
            ]
          },
          "execution_count": 56,
          "metadata": {},
          "output_type": "execute_result"
        }
      ],
      "source": [
        "data.head()\n"
      ]
    },
    {
      "cell_type": "code",
      "execution_count": 57,
      "metadata": {
        "colab": {
          "base_uri": "https://localhost:8080/"
        },
        "id": "8IFzLILi_okv",
        "outputId": "e325dd86-20ca-4bfc-9560-bdea8fb2bb36"
      },
      "outputs": [
        {
          "name": "stdout",
          "output_type": "stream",
          "text": [
            "9020 6450 11454\n"
          ]
        }
      ],
      "source": [
        "print(len(li), len(li2), len(data))"
      ]
    },
    {
      "cell_type": "code",
      "execution_count": 58,
      "metadata": {
        "id": "eh_bqyNESyFX"
      },
      "outputs": [],
      "source": [
        "for i in range(len(data)):\n",
        "  x = data[\"category\"][i]\n",
        "  x = x.split(\"|\")\n",
        "  data.loc[i, 'category'] = x[-1]"
      ]
    },
    {
      "cell_type": "code",
      "execution_count": 59,
      "metadata": {
        "colab": {
          "base_uri": "https://localhost:8080/",
          "height": 293
        },
        "id": "IK6Gj2ETTH0w",
        "outputId": "3f550a66-69aa-4cac-c1df-7af5daad251c"
      },
      "outputs": [
        {
          "data": {
            "text/html": [
              "<div>\n",
              "<style scoped>\n",
              "    .dataframe tbody tr th:only-of-type {\n",
              "        vertical-align: middle;\n",
              "    }\n",
              "\n",
              "    .dataframe tbody tr th {\n",
              "        vertical-align: top;\n",
              "    }\n",
              "\n",
              "    .dataframe thead th {\n",
              "        text-align: right;\n",
              "    }\n",
              "</style>\n",
              "<table border=\"1\" class=\"dataframe\">\n",
              "  <thead>\n",
              "    <tr style=\"text-align: right;\">\n",
              "      <th></th>\n",
              "      <th>product_id</th>\n",
              "      <th>category</th>\n",
              "      <th>discounted_price</th>\n",
              "      <th>actual_price</th>\n",
              "      <th>rating</th>\n",
              "      <th>rating_count</th>\n",
              "      <th>user_id</th>\n",
              "      <th>review_title</th>\n",
              "      <th>review_content</th>\n",
              "      <th>vis</th>\n",
              "    </tr>\n",
              "  </thead>\n",
              "  <tbody>\n",
              "    <tr>\n",
              "      <th>0</th>\n",
              "      <td>B07JW9H4J1</td>\n",
              "      <td>USBCables</td>\n",
              "      <td>399.0</td>\n",
              "      <td>1099.0</td>\n",
              "      <td>4.2</td>\n",
              "      <td>24269.0</td>\n",
              "      <td>3251</td>\n",
              "      <td>Satisfied</td>\n",
              "      <td>Looks durable Charging is fine tooNo complains...</td>\n",
              "      <td>0</td>\n",
              "    </tr>\n",
              "    <tr>\n",
              "      <th>1</th>\n",
              "      <td>B07JW9H4J1</td>\n",
              "      <td>USBCables</td>\n",
              "      <td>399.0</td>\n",
              "      <td>1099.0</td>\n",
              "      <td>4.2</td>\n",
              "      <td>24269.0</td>\n",
              "      <td>220</td>\n",
              "      <td>Charging is really fast</td>\n",
              "      <td>Looks durable Charging is fine tooNo complains...</td>\n",
              "      <td>0</td>\n",
              "    </tr>\n",
              "    <tr>\n",
              "      <th>2</th>\n",
              "      <td>B07JW9H4J1</td>\n",
              "      <td>USBCables</td>\n",
              "      <td>399.0</td>\n",
              "      <td>1099.0</td>\n",
              "      <td>4.2</td>\n",
              "      <td>24269.0</td>\n",
              "      <td>6266</td>\n",
              "      <td>Value for money</td>\n",
              "      <td>Looks durable Charging is fine tooNo complains...</td>\n",
              "      <td>0</td>\n",
              "    </tr>\n",
              "    <tr>\n",
              "      <th>3</th>\n",
              "      <td>B07JW9H4J1</td>\n",
              "      <td>USBCables</td>\n",
              "      <td>399.0</td>\n",
              "      <td>1099.0</td>\n",
              "      <td>4.2</td>\n",
              "      <td>24269.0</td>\n",
              "      <td>4951</td>\n",
              "      <td>Product review</td>\n",
              "      <td>Looks durable Charging is fine tooNo complains...</td>\n",
              "      <td>0</td>\n",
              "    </tr>\n",
              "    <tr>\n",
              "      <th>4</th>\n",
              "      <td>B07JW9H4J1</td>\n",
              "      <td>USBCables</td>\n",
              "      <td>399.0</td>\n",
              "      <td>1099.0</td>\n",
              "      <td>4.2</td>\n",
              "      <td>24269.0</td>\n",
              "      <td>7542</td>\n",
              "      <td>Good quality</td>\n",
              "      <td>Looks durable Charging is fine tooNo complains...</td>\n",
              "      <td>0</td>\n",
              "    </tr>\n",
              "  </tbody>\n",
              "</table>\n",
              "</div>"
            ],
            "text/plain": [
              "   product_id   category discounted_price actual_price rating rating_count  \\\n",
              "0  B07JW9H4J1  USBCables            399.0       1099.0    4.2      24269.0   \n",
              "1  B07JW9H4J1  USBCables            399.0       1099.0    4.2      24269.0   \n",
              "2  B07JW9H4J1  USBCables            399.0       1099.0    4.2      24269.0   \n",
              "3  B07JW9H4J1  USBCables            399.0       1099.0    4.2      24269.0   \n",
              "4  B07JW9H4J1  USBCables            399.0       1099.0    4.2      24269.0   \n",
              "\n",
              "  user_id             review_title  \\\n",
              "0    3251                Satisfied   \n",
              "1     220  Charging is really fast   \n",
              "2    6266          Value for money   \n",
              "3    4951           Product review   \n",
              "4    7542             Good quality   \n",
              "\n",
              "                                      review_content  vis  \n",
              "0  Looks durable Charging is fine tooNo complains...    0  \n",
              "1  Looks durable Charging is fine tooNo complains...    0  \n",
              "2  Looks durable Charging is fine tooNo complains...    0  \n",
              "3  Looks durable Charging is fine tooNo complains...    0  \n",
              "4  Looks durable Charging is fine tooNo complains...    0  "
            ]
          },
          "execution_count": 59,
          "metadata": {},
          "output_type": "execute_result"
        }
      ],
      "source": [
        "data.head()"
      ]
    },
    {
      "cell_type": "code",
      "execution_count": 60,
      "metadata": {
        "id": "2Jr_8FRSircv"
      },
      "outputs": [],
      "source": [
        "li, li2 = [], []\n",
        "for i in range(len(data)):\n",
        "    li.append(data[\"category\"][i])\n",
        "\n",
        "seli = set(li)\n",
        "\n",
        "\n",
        "li, li2 = list(seli), list(seli2)\n",
        "d, d2 = 1, 1\n",
        "dicli = {}\n",
        "for i in li:\n",
        "    dicli[i] = d\n",
        "    d += 1\n",
        "\n",
        "for i in range(len(data)):\n",
        "    data.loc[i, 'category'] = dicli[data[\"category\"][i]]\n"
      ]
    },
    {
      "cell_type": "code",
      "execution_count": 61,
      "metadata": {
        "colab": {
          "base_uri": "https://localhost:8080/",
          "height": 293
        },
        "id": "yDaDGUw2irE1",
        "outputId": "3bca5ea3-761e-474e-bb10-ff3442d0ca3f"
      },
      "outputs": [
        {
          "data": {
            "text/html": [
              "<div>\n",
              "<style scoped>\n",
              "    .dataframe tbody tr th:only-of-type {\n",
              "        vertical-align: middle;\n",
              "    }\n",
              "\n",
              "    .dataframe tbody tr th {\n",
              "        vertical-align: top;\n",
              "    }\n",
              "\n",
              "    .dataframe thead th {\n",
              "        text-align: right;\n",
              "    }\n",
              "</style>\n",
              "<table border=\"1\" class=\"dataframe\">\n",
              "  <thead>\n",
              "    <tr style=\"text-align: right;\">\n",
              "      <th></th>\n",
              "      <th>product_id</th>\n",
              "      <th>category</th>\n",
              "      <th>discounted_price</th>\n",
              "      <th>actual_price</th>\n",
              "      <th>rating</th>\n",
              "      <th>rating_count</th>\n",
              "      <th>user_id</th>\n",
              "      <th>review_title</th>\n",
              "      <th>review_content</th>\n",
              "      <th>vis</th>\n",
              "    </tr>\n",
              "  </thead>\n",
              "  <tbody>\n",
              "    <tr>\n",
              "      <th>0</th>\n",
              "      <td>B07JW9H4J1</td>\n",
              "      <td>18</td>\n",
              "      <td>399.0</td>\n",
              "      <td>1099.0</td>\n",
              "      <td>4.2</td>\n",
              "      <td>24269.0</td>\n",
              "      <td>3251</td>\n",
              "      <td>Satisfied</td>\n",
              "      <td>Looks durable Charging is fine tooNo complains...</td>\n",
              "      <td>0</td>\n",
              "    </tr>\n",
              "    <tr>\n",
              "      <th>1</th>\n",
              "      <td>B07JW9H4J1</td>\n",
              "      <td>18</td>\n",
              "      <td>399.0</td>\n",
              "      <td>1099.0</td>\n",
              "      <td>4.2</td>\n",
              "      <td>24269.0</td>\n",
              "      <td>220</td>\n",
              "      <td>Charging is really fast</td>\n",
              "      <td>Looks durable Charging is fine tooNo complains...</td>\n",
              "      <td>0</td>\n",
              "    </tr>\n",
              "    <tr>\n",
              "      <th>2</th>\n",
              "      <td>B07JW9H4J1</td>\n",
              "      <td>18</td>\n",
              "      <td>399.0</td>\n",
              "      <td>1099.0</td>\n",
              "      <td>4.2</td>\n",
              "      <td>24269.0</td>\n",
              "      <td>6266</td>\n",
              "      <td>Value for money</td>\n",
              "      <td>Looks durable Charging is fine tooNo complains...</td>\n",
              "      <td>0</td>\n",
              "    </tr>\n",
              "    <tr>\n",
              "      <th>3</th>\n",
              "      <td>B07JW9H4J1</td>\n",
              "      <td>18</td>\n",
              "      <td>399.0</td>\n",
              "      <td>1099.0</td>\n",
              "      <td>4.2</td>\n",
              "      <td>24269.0</td>\n",
              "      <td>4951</td>\n",
              "      <td>Product review</td>\n",
              "      <td>Looks durable Charging is fine tooNo complains...</td>\n",
              "      <td>0</td>\n",
              "    </tr>\n",
              "    <tr>\n",
              "      <th>4</th>\n",
              "      <td>B07JW9H4J1</td>\n",
              "      <td>18</td>\n",
              "      <td>399.0</td>\n",
              "      <td>1099.0</td>\n",
              "      <td>4.2</td>\n",
              "      <td>24269.0</td>\n",
              "      <td>7542</td>\n",
              "      <td>Good quality</td>\n",
              "      <td>Looks durable Charging is fine tooNo complains...</td>\n",
              "      <td>0</td>\n",
              "    </tr>\n",
              "  </tbody>\n",
              "</table>\n",
              "</div>"
            ],
            "text/plain": [
              "   product_id category discounted_price actual_price rating rating_count  \\\n",
              "0  B07JW9H4J1       18            399.0       1099.0    4.2      24269.0   \n",
              "1  B07JW9H4J1       18            399.0       1099.0    4.2      24269.0   \n",
              "2  B07JW9H4J1       18            399.0       1099.0    4.2      24269.0   \n",
              "3  B07JW9H4J1       18            399.0       1099.0    4.2      24269.0   \n",
              "4  B07JW9H4J1       18            399.0       1099.0    4.2      24269.0   \n",
              "\n",
              "  user_id             review_title  \\\n",
              "0    3251                Satisfied   \n",
              "1     220  Charging is really fast   \n",
              "2    6266          Value for money   \n",
              "3    4951           Product review   \n",
              "4    7542             Good quality   \n",
              "\n",
              "                                      review_content  vis  \n",
              "0  Looks durable Charging is fine tooNo complains...    0  \n",
              "1  Looks durable Charging is fine tooNo complains...    0  \n",
              "2  Looks durable Charging is fine tooNo complains...    0  \n",
              "3  Looks durable Charging is fine tooNo complains...    0  \n",
              "4  Looks durable Charging is fine tooNo complains...    0  "
            ]
          },
          "execution_count": 61,
          "metadata": {},
          "output_type": "execute_result"
        }
      ],
      "source": [
        "data.head()"
      ]
    },
    {
      "cell_type": "code",
      "execution_count": 62,
      "metadata": {
        "colab": {
          "base_uri": "https://localhost:8080/"
        },
        "id": "Y7lC0xwgkUyS",
        "outputId": "f8b86e31-ef16-4f7f-dd94-389057f7b178"
      },
      "outputs": [
        {
          "name": "stdout",
          "output_type": "stream",
          "text": [
            "207\n"
          ]
        }
      ],
      "source": [
        "print(len(data['category'].unique()))"
      ]
    },
    {
      "cell_type": "code",
      "execution_count": 63,
      "metadata": {
        "id": "dxbxYMBuZz1D"
      },
      "outputs": [],
      "source": [
        "data = data.drop_duplicates()"
      ]
    },
    {
      "cell_type": "code",
      "execution_count": 64,
      "metadata": {
        "colab": {
          "base_uri": "https://localhost:8080/"
        },
        "id": "y2uFOYYTZ71j",
        "outputId": "a7c45729-65d8-4657-d886-a34b1e618656"
      },
      "outputs": [
        {
          "name": "stdout",
          "output_type": "stream",
          "text": [
            "<class 'pandas.core.frame.DataFrame'>\n",
            "RangeIndex: 11454 entries, 0 to 11453\n",
            "Data columns (total 10 columns):\n",
            " #   Column            Non-Null Count  Dtype \n",
            "---  ------            --------------  ----- \n",
            " 0   product_id        11454 non-null  object\n",
            " 1   category          11454 non-null  object\n",
            " 2   discounted_price  11454 non-null  object\n",
            " 3   actual_price      11454 non-null  object\n",
            " 4   rating            11454 non-null  object\n",
            " 5   rating_count      11454 non-null  object\n",
            " 6   user_id           11454 non-null  object\n",
            " 7   review_title      11454 non-null  object\n",
            " 8   review_content    11454 non-null  object\n",
            " 9   vis               11454 non-null  int64 \n",
            "dtypes: int64(1), object(9)\n",
            "memory usage: 895.0+ KB\n"
          ]
        }
      ],
      "source": [
        "data.info()"
      ]
    },
    {
      "cell_type": "code",
      "execution_count": 65,
      "metadata": {},
      "outputs": [],
      "source": [
        "data.drop(columns = ['vis'], inplace = True)"
      ]
    },
    {
      "cell_type": "code",
      "execution_count": 66,
      "metadata": {},
      "outputs": [
        {
          "data": {
            "text/html": [
              "<div>\n",
              "<style scoped>\n",
              "    .dataframe tbody tr th:only-of-type {\n",
              "        vertical-align: middle;\n",
              "    }\n",
              "\n",
              "    .dataframe tbody tr th {\n",
              "        vertical-align: top;\n",
              "    }\n",
              "\n",
              "    .dataframe thead th {\n",
              "        text-align: right;\n",
              "    }\n",
              "</style>\n",
              "<table border=\"1\" class=\"dataframe\">\n",
              "  <thead>\n",
              "    <tr style=\"text-align: right;\">\n",
              "      <th></th>\n",
              "      <th>product_id</th>\n",
              "      <th>category</th>\n",
              "      <th>discounted_price</th>\n",
              "      <th>actual_price</th>\n",
              "      <th>rating</th>\n",
              "      <th>rating_count</th>\n",
              "      <th>user_id</th>\n",
              "      <th>review_title</th>\n",
              "      <th>review_content</th>\n",
              "    </tr>\n",
              "  </thead>\n",
              "  <tbody>\n",
              "    <tr>\n",
              "      <th>0</th>\n",
              "      <td>B07JW9H4J1</td>\n",
              "      <td>18</td>\n",
              "      <td>399.0</td>\n",
              "      <td>1099.0</td>\n",
              "      <td>4.2</td>\n",
              "      <td>24269.0</td>\n",
              "      <td>3251</td>\n",
              "      <td>Satisfied</td>\n",
              "      <td>Looks durable Charging is fine tooNo complains...</td>\n",
              "    </tr>\n",
              "    <tr>\n",
              "      <th>1</th>\n",
              "      <td>B07JW9H4J1</td>\n",
              "      <td>18</td>\n",
              "      <td>399.0</td>\n",
              "      <td>1099.0</td>\n",
              "      <td>4.2</td>\n",
              "      <td>24269.0</td>\n",
              "      <td>220</td>\n",
              "      <td>Charging is really fast</td>\n",
              "      <td>Looks durable Charging is fine tooNo complains...</td>\n",
              "    </tr>\n",
              "    <tr>\n",
              "      <th>2</th>\n",
              "      <td>B07JW9H4J1</td>\n",
              "      <td>18</td>\n",
              "      <td>399.0</td>\n",
              "      <td>1099.0</td>\n",
              "      <td>4.2</td>\n",
              "      <td>24269.0</td>\n",
              "      <td>6266</td>\n",
              "      <td>Value for money</td>\n",
              "      <td>Looks durable Charging is fine tooNo complains...</td>\n",
              "    </tr>\n",
              "    <tr>\n",
              "      <th>3</th>\n",
              "      <td>B07JW9H4J1</td>\n",
              "      <td>18</td>\n",
              "      <td>399.0</td>\n",
              "      <td>1099.0</td>\n",
              "      <td>4.2</td>\n",
              "      <td>24269.0</td>\n",
              "      <td>4951</td>\n",
              "      <td>Product review</td>\n",
              "      <td>Looks durable Charging is fine tooNo complains...</td>\n",
              "    </tr>\n",
              "    <tr>\n",
              "      <th>4</th>\n",
              "      <td>B07JW9H4J1</td>\n",
              "      <td>18</td>\n",
              "      <td>399.0</td>\n",
              "      <td>1099.0</td>\n",
              "      <td>4.2</td>\n",
              "      <td>24269.0</td>\n",
              "      <td>7542</td>\n",
              "      <td>Good quality</td>\n",
              "      <td>Looks durable Charging is fine tooNo complains...</td>\n",
              "    </tr>\n",
              "  </tbody>\n",
              "</table>\n",
              "</div>"
            ],
            "text/plain": [
              "   product_id category discounted_price actual_price rating rating_count  \\\n",
              "0  B07JW9H4J1       18            399.0       1099.0    4.2      24269.0   \n",
              "1  B07JW9H4J1       18            399.0       1099.0    4.2      24269.0   \n",
              "2  B07JW9H4J1       18            399.0       1099.0    4.2      24269.0   \n",
              "3  B07JW9H4J1       18            399.0       1099.0    4.2      24269.0   \n",
              "4  B07JW9H4J1       18            399.0       1099.0    4.2      24269.0   \n",
              "\n",
              "  user_id             review_title  \\\n",
              "0    3251                Satisfied   \n",
              "1     220  Charging is really fast   \n",
              "2    6266          Value for money   \n",
              "3    4951           Product review   \n",
              "4    7542             Good quality   \n",
              "\n",
              "                                      review_content  \n",
              "0  Looks durable Charging is fine tooNo complains...  \n",
              "1  Looks durable Charging is fine tooNo complains...  \n",
              "2  Looks durable Charging is fine tooNo complains...  \n",
              "3  Looks durable Charging is fine tooNo complains...  \n",
              "4  Looks durable Charging is fine tooNo complains...  "
            ]
          },
          "execution_count": 66,
          "metadata": {},
          "output_type": "execute_result"
        }
      ],
      "source": [
        "data.head()"
      ]
    },
    {
      "cell_type": "markdown",
      "metadata": {},
      "source": [
        "## Encode review rating\n",
        "-  Target variable: rating (divide into 3 bin: unsatisfied  <=2, normal < 4, satisfied >=4)"
      ]
    },
    {
      "cell_type": "code",
      "execution_count": 67,
      "metadata": {},
      "outputs": [
        {
          "name": "stdout",
          "output_type": "stream",
          "text": [
            "0\n",
            "<class 'float'>\n"
          ]
        }
      ],
      "source": [
        "print(data['rating'].isnull().sum())\n",
        "print(type(data['rating'].iloc[0]))"
      ]
    },
    {
      "cell_type": "code",
      "execution_count": 68,
      "metadata": {},
      "outputs": [],
      "source": [
        "def encode_rating(rating: float) -> int:\n",
        "    try:\n",
        "        rating = float(rating)\n",
        "    except:\n",
        "        return -1\n",
        "    if rating <= 0:\n",
        "        return -1\n",
        "    elif rating <= 2:\n",
        "        return 0\n",
        "    elif rating < 4:\n",
        "        return 1\n",
        "    elif rating > 5:\n",
        "        return -1\n",
        "    else:\n",
        "        return 2"
      ]
    },
    {
      "cell_type": "code",
      "execution_count": 69,
      "metadata": {},
      "outputs": [],
      "source": [
        "data['encode_review_raing'] = np.vectorize(encode_rating)(data['rating'])"
      ]
    },
    {
      "cell_type": "code",
      "execution_count": 70,
      "metadata": {},
      "outputs": [],
      "source": [
        "# drop row with -1 in col rating\n",
        "data = data[data['encode_review_raing'] != -1]"
      ]
    },
    {
      "cell_type": "markdown",
      "metadata": {},
      "source": [
        "## Text processing\n",
        "- Normalise text (rm stop words, hyperlink)\n",
        "- remove emoji, emoticons\n",
        "- remove non ascii characters"
      ]
    },
    {
      "cell_type": "code",
      "execution_count": 71,
      "metadata": {},
      "outputs": [],
      "source": [
        "# def text_normalize(text):\n",
        "#     #lowercasing\n",
        "#     text = text.lower()\n",
        "    \n",
        "#     # hyperlinks removal\n",
        "#     text = re.sub(r'https?:\\/\\/.*[\\r\\n]*', '', text)\n",
        "    \n",
        "#     # remove punctuation\n",
        "#     text = re.sub(r'[^\\w\\s]', ' ', text)\n",
        "    \n",
        "#     #Remove stopwords\n",
        "#     stopwords_txt = pd.read_csv('../data/stop_words_english.csv', header=None)\n",
        "#     stop_words = stopwords_txt[0].tolist()\n",
        "#     words = text.split()\n",
        "#     words = [word for word in words if word not in stop_words]\n",
        "#     text = ' '.join(words)                                          # Space handling\n",
        "#     return text\n",
        "\n",
        "# # remove emoticons to using emot\n",
        "# def handle_emoticons(text, remove_emoticon=True):\n",
        "#     dict_emoticons = dict(zip(emot_obj.emoticons(text)['value'], emot_obj.emoticons(text)['mean']))\n",
        "#     res_emoticons =  dict(sorted(dict_emoticons.items(), key = lambda kv:len(kv[1]), reverse=True))\n",
        "#     for emoticon, mean in res_emoticons.items():\n",
        "#         if remove_emoticon:\n",
        "#             text = text.replace(emoticon, \"\")\n",
        "#         else:\n",
        "#             text = text.replace(emoticon, mean)\n",
        "#     return text\n",
        "\n",
        "# def handle_emojis(text, remove_emoji=True):\n",
        "#     for emoji, mean in zip(emot_obj.emoji(text)['value'], emot_obj.emoji(text)['mean']):\n",
        "#         if remove_emoji:\n",
        "#             text = text.replace(emoji, \"\")\n",
        "#         else:\n",
        "#             text = text.replace(emoji, mean)\n",
        "#     return text\n",
        "\n",
        "# def keep_ascii_alnum(text):\n",
        "#     # 1) Strip out any char that's not a letter, digit, or whitespace\n",
        "#     cleaned = re.sub(r'[^A-Za-z0-9\\s]+', '', text)\n",
        "    \n",
        "#     # 2) Collapse runs of whitespace into a single space, and trim ends\n",
        "#     cleaned = re.sub(r'\\s+', ' ', cleaned).strip()\n",
        "    \n",
        "#     return str(cleaned)"
      ]
    },
    {
      "cell_type": "code",
      "execution_count": 72,
      "metadata": {},
      "outputs": [],
      "source": [
        "data['review_title'] = np.vectorize(text_normalize)(data['review_title'])\n",
        "data['review_title'] = np.vectorize(handle_emoticons)(data['review_title'])\n",
        "data['review_title'] = np.vectorize(handle_emojis)(data['review_title'])\n",
        "data['review_title'] = np.vectorize(keep_ascii_alnum)(data['review_title'])\n",
        "\n",
        "data['review_content'] = np.vectorize(text_normalize)(data['review_content'])\n",
        "data['review_content'] = np.vectorize(handle_emoticons)(data['review_content'])\n",
        "data['review_content'] = np.vectorize(handle_emojis)(data['review_content'])\n",
        "data['review_content'] = np.vectorize(keep_ascii_alnum)(data['review_content'])"
      ]
    },
    {
      "cell_type": "markdown",
      "metadata": {},
      "source": [
        "## Lematization"
      ]
    },
    {
      "cell_type": "code",
      "execution_count": 73,
      "metadata": {},
      "outputs": [
        {
          "ename": "NameError",
          "evalue": "name 'lemmatize_text' is not defined",
          "output_type": "error",
          "traceback": [
            "\u001b[0;31m---------------------------------------------------------------------------\u001b[0m",
            "\u001b[0;31mNameError\u001b[0m                                 Traceback (most recent call last)",
            "Cell \u001b[0;32mIn[73], line 11\u001b[0m\n\u001b[1;32m      6\u001b[0m \u001b[38;5;66;03m# def lemmatize_text(text):\u001b[39;00m\n\u001b[1;32m      7\u001b[0m \u001b[38;5;66;03m#     doc = nlp(text)\u001b[39;00m\n\u001b[1;32m      8\u001b[0m \u001b[38;5;66;03m#     return \" \".join([token.lemma_ for token in doc])\u001b[39;00m\n\u001b[1;32m     10\u001b[0m sample_text \u001b[38;5;241m=\u001b[39m \u001b[38;5;124m\"\u001b[39m\u001b[38;5;124mThe quick brown foxes are jumping over the lazy dogs.\u001b[39m\u001b[38;5;124m\"\u001b[39m\n\u001b[0;32m---> 11\u001b[0m \u001b[38;5;28mprint\u001b[39m(\u001b[38;5;124m\"\u001b[39m\u001b[38;5;124mlemmatized text:\u001b[39m\u001b[38;5;124m\"\u001b[39m, lemmatize_text(sample_text))\n",
            "\u001b[0;31mNameError\u001b[0m: name 'lemmatize_text' is not defined"
          ]
        }
      ],
      "source": [
        "# source: https://www.geeksforgeeks.org/python-lemmatization-with-nltk/\n",
        "\n",
        "# Lemmatization\n",
        "nlp = spacy.load(\"en_core_web_sm\")  \n",
        "\n",
        "# def lemmatize_text(text):\n",
        "#     doc = nlp(text)\n",
        "#     return \" \".join([token.lemma_ for token in doc])\n",
        "\n",
        "sample_text = \"The quick brown foxes are jumping over the lazy dogs.\"\n",
        "print(\"lemmatized text:\", lemmatize_text(sample_text))"
      ]
    },
    {
      "cell_type": "code",
      "execution_count": null,
      "metadata": {},
      "outputs": [],
      "source": [
        "data['review_title'] = np.vectorize(lemmatize_text)(data['review_title'])\n",
        "data['review_content'] = np.vectorize(lemmatize_text)(data['review_content'])\n"
      ]
    },
    {
      "cell_type": "code",
      "execution_count": null,
      "metadata": {},
      "outputs": [
        {
          "data": {
            "text/plain": [
              "product_id             11446\n",
              "category               11446\n",
              "discounted_price       11446\n",
              "actual_price           11446\n",
              "rating                 11446\n",
              "rating_count           11446\n",
              "user_id                11446\n",
              "review_title           11446\n",
              "review_content         11446\n",
              "encode_review_raing    11446\n",
              "dtype: int64"
            ]
          },
          "execution_count": 79,
          "metadata": {},
          "output_type": "execute_result"
        }
      ],
      "source": [
        "data.isnull().count()"
      ]
    },
    {
      "cell_type": "markdown",
      "metadata": {},
      "source": [
        "## Tokenize the col 'title and review' (omit for now)"
      ]
    },
    {
      "cell_type": "code",
      "execution_count": null,
      "metadata": {},
      "outputs": [],
      "source": [
        "# tokenizer = TweetTokenizer(preserve_case=False, strip_handles=True,\n",
        "#                                reduce_len=True)\n",
        "\n",
        "# # df['title and review'] = np.vectorize(tokenizer.tokenize)(df['title and review'])\n",
        "# df['title and review'] = df['title and review'].apply(tokenizer.tokenize)"
      ]
    },
    {
      "cell_type": "markdown",
      "metadata": {},
      "source": []
    },
    {
      "cell_type": "code",
      "execution_count": null,
      "metadata": {},
      "outputs": [
        {
          "data": {
            "text/plain": [
              "product_id             0\n",
              "category               0\n",
              "discounted_price       0\n",
              "actual_price           0\n",
              "rating                 0\n",
              "rating_count           0\n",
              "user_id                0\n",
              "review_title           0\n",
              "review_content         0\n",
              "encode_review_raing    0\n",
              "dtype: int64"
            ]
          },
          "execution_count": 81,
          "metadata": {},
          "output_type": "execute_result"
        }
      ],
      "source": [
        "data.isna().sum()"
      ]
    },
    {
      "cell_type": "markdown",
      "metadata": {},
      "source": [
        "## Final remark\n",
        "- output: amazon-cleaned.csv\n",
        "- output: dic-userid-username.json ???\n",
        "- output: dic-reviewid-userid (primary key will be review_id)"
      ]
    },
    {
      "cell_type": "code",
      "execution_count": null,
      "metadata": {
        "colab": {
          "base_uri": "https://localhost:8080/",
          "height": 35
        },
        "id": "0LS1FA87SEg7",
        "outputId": "9562385b-4b42-4cb0-8951-01cac3f39f30"
      },
      "outputs": [
        {
          "data": {
            "text/plain": [
              "'amazon-cleaned.csv'"
            ]
          },
          "execution_count": 82,
          "metadata": {},
          "output_type": "execute_result"
        }
      ],
      "source": [
        "output_file_path = '../data/amazon-cleaned.csv'  # Đường dẫn và tên file\n",
        "data.to_csv(output_file_path, index=False)\n",
        "\n",
        "output_file_path"
      ]
    },
    {
      "cell_type": "code",
      "execution_count": null,
      "metadata": {
        "colab": {
          "base_uri": "https://localhost:8080/",
          "height": 204
        },
        "id": "llTZpPtkj5WK",
        "outputId": "acf48fd9-6ed4-4a6c-f64e-790c639e5fe7"
      },
      "outputs": [
        {
          "data": {
            "text/plain": [
              "pandas.core.frame.DataFrame"
            ]
          },
          "execution_count": 83,
          "metadata": {},
          "output_type": "execute_result"
        }
      ],
      "source": [
        "type(data)"
      ]
    },
    {
      "cell_type": "code",
      "execution_count": null,
      "metadata": {
        "id": "9GQYZubfkn5U"
      },
      "outputs": [],
      "source": []
    }
  ],
  "metadata": {
    "colab": {
      "provenance": []
    },
    "kernelspec": {
      "display_name": "mlds",
      "language": "python",
      "name": "python3"
    },
    "language_info": {
      "codemirror_mode": {
        "name": "ipython",
        "version": 3
      },
      "file_extension": ".py",
      "mimetype": "text/x-python",
      "name": "python",
      "nbconvert_exporter": "python",
      "pygments_lexer": "ipython3",
      "version": "3.12.2"
    }
  },
  "nbformat": 4,
  "nbformat_minor": 0
}
